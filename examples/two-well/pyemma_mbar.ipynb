{
 "cells": [
  {
   "cell_type": "code",
   "execution_count": 1,
   "metadata": {},
   "outputs": [],
   "source": [
    "from __future__ import division\n",
    "import numpy as np"
   ]
  },
  {
   "cell_type": "code",
   "execution_count": null,
   "metadata": {},
   "outputs": [],
   "source": [
    "### this umberall simulations have 7 ensembles (biased) + 1 ensemble (ubiased)\n",
    "equilibrium_distance = [0.0, 2.0, 2.5, 3.0, 3.5, 4.0, 4.5, 5.0]\n",
    "\n",
    "# K is number of ensembles\n",
    "K = len(equilibrium_distance)\n",
    "L = K\n",
    "print (\"K=\", K)\n",
    "# kspring_k is the harmonic potential spring constant (in kcal/mol/nm^2) for each ensemble\n",
    "kspring_k   = [ 0.0, 2.0, 2.0, 2.0, 2.0, 2.0, 2.0, 2.0 ]\n",
    "\n",
    "temperature = 300.0 # in K\n",
    "# beta is the inverse temperatures of each ensemble\n",
    "kB = 0.0019872041               # Boltzmann constant in kcal/mol/K\n",
    "beta = 1.0 / (kB * temperature) # inverse temperature of simulations (in 1/(kcal/mol))"
   ]
  },
  {
   "cell_type": "code",
   "execution_count": null,
   "metadata": {},
   "outputs": [],
   "source": [
    "# Let's read in the distances from all of the ensembles \n",
    "nsamples = [10, 20, 50, 100, 200, 500, 1000, 2000, 5000, 10000, 20000, 50000, 100000]\n",
    "data_dir = '/Users/sizhang/1D_test/free-energy-msm-estimators-master/examples/two-well/trajdata'\n",
    "\n",
    "indices_for_trials=[[0,1], [2,3], [4,5], [6,7], [8,9]]    #split all trials into 5 parts\n",
    "pieces = 5"
   ]
  },
  {
   "cell_type": "code",
   "execution_count": null,
   "metadata": {},
   "outputs": [],
   "source": [
    "for nsample in nsamples:\n",
    "    for p in range(pieces):  # for each bootstrap\n",
    "        \n",
    "        ntraj = 2*K  # This is 16 for K=8\n",
    "        ntrials = len(indices_for_trials[p])\n",
    "\n",
    "        dist = np.load('%s/nsamples%d_kspring2.0.npy'%(data_dir, nsample))[:, indices_for_trials[p]]     # loading the files with kspring=2.0\n",
    "        print ('dist.shape', dist.shape)   # (8, 2, 10 (e.g.))\n",
    "        \n",
    "        samples_in_each_traj = [nsample]*ntraj # e.g. [10 10 .... 10]\n",
    "        print (samples_in_each_traj)\n",
    "\n",
    "        ## prepare btraj, note: btraj is bias energy.. it's a list, for each traj, of (N,K) biases \n",
    "        btraj, dtraj = [], []\n",
    "        for i in range(K): # number of ensembles (8)\n",
    "            for j in range(ntrials):  # should go from 0 to 1\n",
    "                \n",
    "                # construct the (N,K) array of biases for this trajectory\n",
    "                btraj.append( np.zeros((samples_in_each_traj[i], K) ))                \n",
    "                for l in range(K):\n",
    "                    btraj[-1][:,l] = beta*(kspring_k[l]/2.0)*(dist[i,j,:] - equilibrium_distance[l])**2\n",
    "                    \n",
    "                # construct dtraj\n",
    "                dtraj.append( (dist[i,j,:] > 3.3123765).astype(int) )   \n",
    "        print ('btraj =', btraj)\n",
    "        print ('len(btraj) =', len(btraj))\n",
    "        print ('dtraj =', dtraj)\n",
    "            \n",
    "        \n",
    "        indices = [[[0]*2, [1]*2, [2]*2, [3]*2, [4]*2, [5]*2, [6]*2, [7]*2]]\n",
    "        indices = np.concatenate(np.concatenate(indices))\n",
    "        print ('indices', indices)\n",
    "\n",
    "        # saving ttraj\n",
    "        ttraj=[]\n",
    "        for i in range(len(dtraj)):\n",
    "            ttraj.append(np.zeros(len(dtraj[i]), dtype=int))\n",
    "\n",
    "        for i in range(len(dtraj)):\n",
    "            for n in range(len(dtraj[i])):\n",
    "                ttraj[i][n]=indices[i]\n",
    "        print (\"ttraj = \", ttraj)\n",
    "        \n",
    "        from pyemma.thermo import mbar\n",
    "        print (\"saving mbar results\")\n",
    "\n",
    "        mbar_obj = mbar(ttraj, dtraj, btraj)\n",
    "\n",
    "        outfile = 'stationary_distribution_nsample_%d_piece_%d.npy'%(nsample,p)\n",
    "        print('Saving ', outfile, '...')\n",
    "        np.save(outfile, mbar_obj.stationary_distribution)\n",
    "        print('...Done.')\n",
    "        \n",
    "        np.save('active_set_nsample_%d_piece_%d.npy'%(nsample,p), mbar_obj.active_set)\n",
    "        np.save('free_energies_nsample_%d_piece_%d.npy'%(nsample,p), mbar_obj.free_energies)"
   ]
  },
  {
   "cell_type": "code",
   "execution_count": 2,
   "metadata": {},
   "outputs": [
    {
     "name": "stdout",
     "output_type": "stream",
     "text": [
      "0.5961\n",
      "[0.094438382455484027, 0.11941477552433917, 0.53263249693911163, 0.31273613900639885, 0.79488280227431041, 1.9201805300693948, 1.8463868337618965, 2.4053547648831795, 2.9155667460308918, 3.5287075275141837, 2.8554041108125556, 2.9525193911561898, 3.7543068057265065]\n",
      "[0.20678393912070769, 0.20960168644669577, 0.32044501036629852, 0.25067454466841876, 0.29544018382458037, 0.21543408446818466, 0.67127904799136462, 0.41738290471191875, 0.58717029367943951, 0.73644727785124697, 0.18997592346414288, 0.69038593124369629, 0.23878051517382723]\n"
     ]
    },
    {
     "data": {
      "text/plain": [
       "<matplotlib.legend.Legend at 0x116afcc90>"
      ]
     },
     "execution_count": 2,
     "metadata": {},
     "output_type": "execute_result"
    },
    {
     "data": {
      "image/png": "[encoded data removed]",
      "text/plain": [
       "<matplotlib.figure.Figure at 0x1105aae50>"
      ]
     },
     "metadata": {},
     "output_type": "display_data"
    }
   ],
   "source": [
    "### let's plot the free energy with diff # of samples\n",
    "\n",
    "from matplotlib import pyplot as plt\n",
    "%matplotlib inline\n",
    "\n",
    "kT = 0.001987*300               ### in kcal/mol\n",
    "print kT\n",
    "\n",
    "nsamples = [10, 20, 50, 100, 200, 500, 1000, 2000, 5000, 10000, 20000, 50000, 100000]\n",
    "piece = 5\n",
    "\n",
    "all_ave_delta_Gs, all_std_delta_Gs=[], []\n",
    "for nsample in nsamples:\n",
    "    \n",
    "    A = []\n",
    "    for i in range(piece):\n",
    "        #print \"(nsample, piece)=\", (nsample, i)\n",
    "        pop = np.load('MBAR_new/stationary_distribution_nsample_%d_piece_%d.npy'%(nsample, i))\n",
    "        key = np.load('MBAR_new/active_set_nsample_%d_piece_%d.npy'%(nsample, i))\n",
    "        \n",
    "        #print pop\n",
    "        \n",
    "        P_l = pop[0]\n",
    "        P_r = pop[1]\n",
    "        delta_G = -kT*np.log(P_l/P_r)     ### in kcal/mol\n",
    "      \n",
    "        A.append(delta_G)\n",
    "    #print A\n",
    "    all_ave_delta_Gs.append(np.mean(A))\n",
    "    all_std_delta_Gs.append(np.std(A))\n",
    "print all_ave_delta_Gs\n",
    "print all_std_delta_Gs\n",
    "\n",
    "plt.plot(nsamples, all_ave_delta_Gs, 'o-', label='kspring=2.0')\n",
    "plt.fill_between(nsamples, np.array(all_ave_delta_Gs) - np.array(all_std_delta_Gs), \n",
    "                 np.array(all_ave_delta_Gs) + np.array(all_std_delta_Gs), alpha=0.25)\n",
    "\n",
    "plt.xlabel('# of samples', fontsize=12)\n",
    "plt.ylabel('Free energy (kcal/mol)', fontsize=12)\n",
    "plt.xscale('log')\n",
    "plt.legend(loc='upper left')"
   ]
  },
  {
   "cell_type": "code",
   "execution_count": null,
   "metadata": {},
   "outputs": [],
   "source": []
  }
 ],
 "metadata": {
  "kernelspec": {
   "display_name": "Python 2",
   "language": "python",
   "name": "python2"
  },
  "language_info": {
   "codemirror_mode": {
    "name": "ipython",
    "version": 2
   },
   "file_extension": ".py",
   "mimetype": "text/x-python",
   "name": "python",
   "nbconvert_exporter": "python",
   "pygments_lexer": "ipython2",
   "version": "2.7.14"
  }
 },
 "nbformat": 4,
 "nbformat_minor": 2
}
