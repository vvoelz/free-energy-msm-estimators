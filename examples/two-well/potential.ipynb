{
 "cells": [
  {
   "cell_type": "markdown",
   "metadata": {},
   "source": [
    "### A two-well potential\n",
    "\n",
    "Consider the following two-well potential:\n",
    "\n",
    "$ U(x) = - 2 \\ln [ e^{-2(x-2)^2-2} + e^{-2(x-5)^2} ] $ \n",
    "\n",
    "The units of $U(x)$ are kcal/mol.\n"
   ]
  },
  {
   "cell_type": "code",
   "execution_count": 22,
   "metadata": {},
   "outputs": [],
   "source": [
    "# Functions for the two-state model\n",
    "import numpy as np\n",
    "\n",
    "def U(x):\n",
    "    \"\"\"Return the value of the 1D potential energy surface in kcal/mol:\n",
    "    \n",
    "    U(x) = -2 \\ln [ e^{-2(x-2)^2-2} + e^{-2(x-5)^2} ]\n",
    "    \"\"\"\n",
    "    return -2.0*np.log( np.exp(-2.0*(x-2)**2 - 2) + np.exp(-2.0*(x-5)**2) )\n"
   ]
  },
  {
   "cell_type": "markdown",
   "metadata": {},
   "source": [
    "Here's a graph of the two-well potential over the range $x \\in (1.5, 5.5)$. Note that the free energy difference between the left and right halves should be very nearly 4.00 kcal/mol."
   ]
  },
  {
   "cell_type": "code",
   "execution_count": 23,
   "metadata": {},
   "outputs": [
    {
     "data": {
      "image/png": "[encoded data removed]",
      "text/plain": [
       "<Figure size 432x288 with 1 Axes>"
      ]
     },
     "metadata": {
      "needs_background": "light"
     },
     "output_type": "display_data"
    }
   ],
   "source": [
    "from matplotlib import pyplot as plt\n",
    "%matplotlib inline\n",
    "\n",
    "x = np.arange(1.5, 5.5, 0.01)\n",
    "plt.plot(x, U(x))\n",
    "plt.xlabel('$x$')\n",
    "plt.ylabel('$U(x)$ (kcal/mol)')\n",
    "plt.tight_layout()\n",
    "\n"
   ]
  },
  {
   "cell_type": "markdown",
   "metadata": {},
   "source": [
    "A nice feature of this potential energy surface is that we know (to arbitrary precision) exactly where the dividing surface $x^*$ is located, and therefore can compute the free energy difference\n",
    "\n",
    "$\\Delta f = \\beta \\Delta F = -\\ln \\frac{Z_R}{Z_L}$\n",
    "\n",
    "Here $F$ is the free energy in kcal/mol, $\\beta = 1/kT$, so that $f$ is the *reduced* free energy (i.e. the free enegy in units of $kT$).  $Z_L$ and $Z_R$ are the partition functions\n",
    "\n",
    "$Z_L = \\int_{-\\infty}^{x^*} e^{-\\beta U(x)} dx $\n",
    "\n",
    "$Z_R = \\int_{x^*}^{\\infty} e^{-\\beta U(x)} dx $\n",
    "\n",
    "\n",
    "First, let's locate the dividing surface $x^*$ by solving for the local maximum of $U(x)$. Since the logarithm function is monotonic, we can equivalently solve for\n",
    "\n",
    "$\\frac{d}{dx} \\big( e^{-2(x-2)^2-2} + e^{-2(x-5)^2} \\big)  = 0$\n",
    "\n",
    "$ -4(x-2) e^{-2(x-2)^2-2} + -4(x-5) e^{-2(x-5)^2}   = 0$\n",
    "\n",
    "We can easily solve this using gradient descent:\n",
    "\n",
    "$x_{n+1} \\leftarrow x_n - \\alpha f'(x_n)$"
   ]
  },
  {
   "cell_type": "code",
   "execution_count": 24,
   "metadata": {},
   "outputs": [],
   "source": [
    "def f(x):\n",
    "    return np.exp(-2*(x-2.0)**2 - 2.0) + np.exp(-2.0*(x-5.0)**2)\n",
    "\n",
    "def df(x):\n",
    "    return -4.0*(x-2.0)*np.exp(-2*(x-2.0)**2 - 2.0) + -4.0*(x-5.0)*np.exp(-2.0*(x-5.0)**2)\n",
    "\n",
    "if (0):\n",
    "    x = np.arange(3.0, 3.6, 0.01)\n",
    "    plt.plot(x, f(x))\n",
    "    plt.xlabel('$x$')\n",
    "    plt.ylabel('$f(x)$')\n",
    "    plt.tight_layout()"
   ]
  },
  {
   "cell_type": "code",
   "execution_count": 28,
   "metadata": {},
   "outputs": [
    {
     "name": "stdout",
     "output_type": "stream",
     "text": [
      "Solution reached within tolerance ( 1e-12 ): x = 3.3123765271592047\n"
     ]
    }
   ],
   "source": [
    "## USe gradient descent to minimize the function\n",
    "\n",
    "tol = 1e-12\n",
    "x0, x1 = 3.0, 3.2\n",
    "step, maxsteps = 0, 1000\n",
    "alpha = 0.1\n",
    "diff = abs(x0 - x1)\n",
    "while (diff > tol) and step < maxsteps:\n",
    "    x0 = x1\n",
    "    x1 = x0 - alpha*df(x0)\n",
    "    diff = abs(x0 - x1)\n",
    "    # print('step', step, 'x0', x0, 'x1', x1, 'diff', diff)\n",
    "    step += 1\n",
    "if diff < tol:\n",
    "    print('Solution reached within tolerance (', tol, '): x =', x1)\n",
    "else:\n",
    "    print('Max steps reached, |x_new - x| =', diff, 'solution x =', x1,\n",
    "          'NOT within tolerance (', tol )\n"
   ]
  },
  {
   "cell_type": "code",
   "execution_count": 29,
   "metadata": {},
   "outputs": [
    {
     "data": {
      "image/png": "[encoded data removed]",
      "text/plain": [
       "<Figure size 432x288 with 1 Axes>"
      ]
     },
     "metadata": {
      "needs_background": "light"
     },
     "output_type": "display_data"
    }
   ],
   "source": [
    "# Make a plot of the dividing surface\n",
    "\n",
    "x = np.arange(1.5, 5.5, 0.01)\n",
    "plt.plot(x, U(x))\n",
    "y = np.arange(x1, 5.5, 0.01)\n",
    "# plt.fill_between(y, U(x1)*np.ones(y.shape), U(y), alpha=0.5)\n",
    "plt.plot([x1,x1],[0,10.0], 'r-')\n",
    "plt.text(x1,10,'$x^*$')\n",
    "plt.xlabel('$x$')\n",
    "plt.ylabel('$U(x)$ (kcal/mol)')\n",
    "plt.tight_layout()"
   ]
  },
  {
   "cell_type": "markdown",
   "metadata": {},
   "source": [
    "With this dividing surface ($x^* = 3.3123765$), we can now compute the free energy between wells:\n",
    "\n",
    "$Z_L =\n",
    "    \\int_{-\\infty}^{x^*} e^{-\\beta U(x)} = \n",
    "    \\int_{-\\infty}^{x^*} [ e^{-4\\beta}e^{-4\\beta(x-2)^2} + e^{-4\\beta(x-5)^2} ] dx = \n",
    "    \\frac{\\sqrt{\\pi}}{4} \\big[ e^{-4\\beta}[1+$ erf $(2\\beta^{1/2}(x^*-2))] +[1+$ erf $(2\\beta^{1/2}(x^*-5))] \\big] $\n",
    "\n",
    "$Z_R = \n",
    "    \\int_{x^*}^{\\infty}  e^{-\\beta U(x)} = \n",
    "    \\int_{x^*}^{\\infty} [ e^{-4\\beta}e^{-4\\beta(x-2)^2} + e^{-4\\beta(x-5)^2} ] dx = \n",
    "    \\frac{\\sqrt{\\pi}}{4} \\big[ e^{-4\\beta}[1 - $ erf $(2\\beta^{1/2}(x^*-2))] +[1 - $ erf $(2\\beta^{1/2}(x^*-5))] \\big] $\n",
    "\n",
    "where $\\beta = 1/kT$."
   ]
  },
  {
   "cell_type": "code",
   "execution_count": 41,
   "metadata": {},
   "outputs": [
    {
     "name": "stdout",
     "output_type": "stream",
     "text": [
      "kT = 0.59616123 kcal/mol.\n",
      "Z_L 0.0010804506482843088 Z_R 0.8862269259980552\n",
      "\\Delta f = -6.709594820927786 \\Delta F = -4.000000301245938 kcal/mol\n"
     ]
    }
   ],
   "source": [
    "import scipy\n",
    "\n",
    "kT = 0.0019872041 * 300.0   # kcal/mol/K * K\n",
    "print('kT =', kT, 'kcal/mol.')\n",
    "beta = 1./kT\n",
    "\n",
    "a2 = 2.0 * beta**0.5 * (x1 - 2.0)\n",
    "a5 = 2.0 * beta**0.5 * (x1 - 5.0)\n",
    "\n",
    "Z_L = (np.pi**0.5)/4.0 * ( np.exp(-4.0*beta) * (1.0 + scipy.special.erf(a2)) + (1.0 + scipy.special.erf(a5))  )\n",
    "Z_R = (np.pi**0.5)/4.0 * ( np.exp(-4.0*beta) * (1.0 - scipy.special.erf(a2)) + (1.0 - scipy.special.erf(a5))  )\n",
    "\n",
    "df = -np.log(Z_R/Z_L)\n",
    "dF = kT*df\n",
    "print('Z_L', Z_L, 'Z_R', Z_R)\n",
    "print('\\Delta f =', df, '\\Delta F =', dF, 'kcal/mol')\n",
    "\n"
   ]
  },
  {
   "cell_type": "markdown",
   "metadata": {},
   "source": [
    "Finally, let's plot the free energy difference from the left well to the right well as a function of *temperature*, $T$.  \n",
    "\n",
    "* In the limit of $T \\rightarrow$ 0 K, only the right well should be populated (i.e. $\\Delta f \\rightarrow -\\infty$)\n",
    "* In the limit of $T \\rightarrow \\infty$ K, the left and right well should be equally populated (i.e. $\\Delta f \\rightarrow 0$)"
   ]
  },
  {
   "cell_type": "code",
   "execution_count": 55,
   "metadata": {},
   "outputs": [
    {
     "data": {
      "image/png": "[encoded data removed]",
      "text/plain": [
       "<Figure size 432x288 with 1 Axes>"
      ]
     },
     "metadata": {
      "needs_background": "light"
     },
     "output_type": "display_data"
    }
   ],
   "source": [
    "import scipy\n",
    "\n",
    "temps = np.arange(50., 600., 1.) # in K\n",
    "df_vs_T = []\n",
    "for T in temps:\n",
    "    \n",
    "    kT = 0.0019872041 * T   # kcal/mol/K * K\n",
    "    beta = 1./kT\n",
    "\n",
    "    a2 = 2.0 * beta**0.5 * (x1 - 2.0)\n",
    "    a5 = 2.0 * beta**0.5 * (x1 - 5.0)\n",
    "\n",
    "    Z_L = (np.pi**0.5)/4.0 * ( np.exp(-4.0*beta) * (1.0 + scipy.special.erf(a2)) + (1.0 + scipy.special.erf(a5))  )\n",
    "    Z_R = (np.pi**0.5)/4.0 * ( np.exp(-4.0*beta) * (1.0 - scipy.special.erf(a2)) + (1.0 - scipy.special.erf(a5))  )\n",
    "\n",
    "    df = -np.log(Z_R) + np.log(Z_L)\n",
    "    dF = kT*df\n",
    "    df_vs_T.append(df)\n",
    "    #print('Z_L', Z_L, 'Z_R', Z_R)\n",
    "    #print('\\Delta f =', df, '\\Delta F =', dF, 'kcal/mol')\n",
    "\n",
    "\n",
    "    \n",
    "# Make a plot of f vs T\n",
    "plt.plot(temps, df_vs_T)\n",
    "plt.xlabel('$T$ (K)')\n",
    "plt.ylabel('$\\Delta f = -\\ln Z_R/Z_L $')\n",
    "plt.tight_layout()\n",
    "\n"
   ]
  }
 ],
 "metadata": {
  "kernelspec": {
   "display_name": "Python 3",
   "language": "python",
   "name": "python3"
  },
  "language_info": {
   "codemirror_mode": {
    "name": "ipython",
    "version": 3
   },
   "file_extension": ".py",
   "mimetype": "text/x-python",
   "name": "python",
   "nbconvert_exporter": "python",
   "pygments_lexer": "ipython3",
   "version": "3.7.3"
  }
 },
 "nbformat": 4,
 "nbformat_minor": 2
}
